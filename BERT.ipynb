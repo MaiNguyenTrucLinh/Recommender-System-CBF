{
 "cells": [
  {
   "cell_type": "markdown",
   "id": "a46b078b",
   "metadata": {},
   "source": [
    "# Import libraries and cleaned data"
   ]
  },
  {
   "cell_type": "code",
   "execution_count": 16,
   "id": "2d69b2f2",
   "metadata": {},
   "outputs": [],
   "source": [
    "import pandas as pd\n",
    "import torch\n",
    "from transformers import BertTokenizer, BertModel\n",
    "import numpy as np\n",
    "import joblib\n",
    "\n",
    "# Load cleaned data\n",
    "movies = pd.read_pickle('movies_df.pkl')"
   ]
  },
  {
   "cell_type": "markdown",
   "id": "f562782c",
   "metadata": {},
   "source": [
    "# BERT model"
   ]
  },
  {
   "cell_type": "code",
   "execution_count": 17,
   "id": "159759de",
   "metadata": {},
   "outputs": [
    {
     "name": "stderr",
     "output_type": "stream",
     "text": [
      "Generating BERT embeddings: 100%|██████████████████████████████████████████████████| 1682/1682 [02:21<00:00, 11.86it/s]\n"
     ]
    }
   ],
   "source": [
    "# Initialize BERT model and tokenizer\n",
    "tokenizer = BertTokenizer.from_pretrained('bert-base-uncased')\n",
    "model = BertModel.from_pretrained('bert-base-uncased')\n",
    "\n",
    "def get_bert_embeddings(text):\n",
    "    inputs = tokenizer(text, return_tensors='pt', truncation=True, padding=True, max_length=512)\n",
    "    with torch.no_grad():\n",
    "        outputs = model(**inputs)\n",
    "    return outputs.last_hidden_state.mean(dim=1).squeeze().numpy()\n",
    "\n",
    "# Generate BERT embeddings\n",
    "tqdm.pandas(desc=\"Generating BERT embeddings\") # Progress bar\n",
    "movies['embedding'] = movies['combined_info'].progress_apply(lambda x: get_bert_embeddings(x))"
   ]
  },
  {
   "cell_type": "markdown",
   "id": "3d3c2ff1",
   "metadata": {},
   "source": [
    "# Save BERT embeddings"
   ]
  },
  {
   "cell_type": "code",
   "execution_count": 18,
   "id": "3711daf7",
   "metadata": {},
   "outputs": [
    {
     "data": {
      "text/plain": [
       "['movies_embeddings.pkl']"
      ]
     },
     "execution_count": 18,
     "metadata": {},
     "output_type": "execute_result"
    }
   ],
   "source": [
    "joblib.dump(movies[['movieId', 'embedding']], 'movies_embeddings.pkl')"
   ]
  }
 ],
 "metadata": {
  "kernelspec": {
   "display_name": "Python 3 (ipykernel)",
   "language": "python",
   "name": "python3"
  },
  "language_info": {
   "codemirror_mode": {
    "name": "ipython",
    "version": 3
   },
   "file_extension": ".py",
   "mimetype": "text/x-python",
   "name": "python",
   "nbconvert_exporter": "python",
   "pygments_lexer": "ipython3",
   "version": "3.9.12"
  }
 },
 "nbformat": 4,
 "nbformat_minor": 5
}
