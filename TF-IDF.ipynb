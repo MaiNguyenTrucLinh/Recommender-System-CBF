{
 "cells": [
  {
   "cell_type": "markdown",
   "id": "3eeefa90",
   "metadata": {},
   "source": [
    "# Import libraries and cleaned data"
   ]
  },
  {
   "cell_type": "code",
   "execution_count": 82,
   "id": "940fa50b",
   "metadata": {},
   "outputs": [],
   "source": [
    "import pandas as pd\n",
    "from sklearn.feature_extraction.text import TfidfVectorizer\n",
    "import joblib\n",
    "\n",
    "# Load cleaned data\n",
    "movies = pd.read_pickle('movies_df.pkl')"
   ]
  },
  {
   "cell_type": "markdown",
   "id": "11a90a5c",
   "metadata": {},
   "source": [
    "# TF-IDF model"
   ]
  },
  {
   "cell_type": "code",
   "execution_count": 83,
   "id": "dfebdee1",
   "metadata": {},
   "outputs": [],
   "source": [
    "vectorizer = TfidfVectorizer(stop_words='english')\n",
    "tfidf_matrix = vectorizer.fit_transform(movies['combined_info'])"
   ]
  },
  {
   "cell_type": "markdown",
   "id": "a8c63378",
   "metadata": {},
   "source": [
    "# Save TF-IDF model and matrix"
   ]
  },
  {
   "cell_type": "code",
   "execution_count": 84,
   "id": "6041d3b8",
   "metadata": {},
   "outputs": [
    {
     "data": {
      "text/plain": [
       "['tfidf_matrix.pkl']"
      ]
     },
     "execution_count": 84,
     "metadata": {},
     "output_type": "execute_result"
    }
   ],
   "source": [
    "joblib.dump(vectorizer, 'tfidf_vectorizer.pkl')\n",
    "joblib.dump(tfidf_matrix, 'tfidf_matrix.pkl')"
   ]
  }
 ],
 "metadata": {
  "kernelspec": {
   "display_name": "Python 3 (ipykernel)",
   "language": "python",
   "name": "python3"
  },
  "language_info": {
   "codemirror_mode": {
    "name": "ipython",
    "version": 3
   },
   "file_extension": ".py",
   "mimetype": "text/x-python",
   "name": "python",
   "nbconvert_exporter": "python",
   "pygments_lexer": "ipython3",
   "version": "3.9.12"
  }
 },
 "nbformat": 4,
 "nbformat_minor": 5
}
