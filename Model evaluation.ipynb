{
 "cells": [
  {
   "cell_type": "markdown",
   "id": "a8e9cd77",
   "metadata": {},
   "source": [
    "# Import libraries, data and models"
   ]
  },
  {
   "cell_type": "code",
   "execution_count": 34,
   "id": "05e25e45",
   "metadata": {},
   "outputs": [],
   "source": [
    "import pandas as pd\n",
    "import joblib\n",
    "from sklearn.metrics.pairwise import cosine_similarity\n",
    "from sklearn.metrics import precision_score, recall_score, f1_score\n",
    "from sklearn.model_selection import train_test_split\n",
    "import numpy as np\n",
    "\n",
    "# Load cleaned data\n",
    "movies = pd.read_pickle('movies_df.pkl')\n",
    "ratings = pd.read_pickle('ratings_df.pkl')\n",
    "\n",
    "# Load saved TF-IDF model and vectorizer\n",
    "vectorizer = joblib.load('tfidf_vectorizer.pkl')\n",
    "tfidf_matrix = joblib.load('tfidf_matrix.pkl')\n",
    "\n",
    "# Load BERT embeddings\n",
    "movies_embeddings = joblib.load('movies_embeddings.pkl')"
   ]
  },
  {
   "cell_type": "code",
   "execution_count": 35,
   "id": "fb4eb0d3",
   "metadata": {},
   "outputs": [],
   "source": [
    "# Load ratings data\n",
    "# Replace with appropriate paths or methods to read the data\n",
    "ratings_train = pd.read_csv('archive/ml-100k/ua.base', delimiter='\\t', names=['userId', 'movieId', 'rating', 'timestamp'])\n",
    "ratings_test = pd.read_csv('archive/ml-100k/ua.test', delimiter='\\t', names=['userId', 'movieId', 'rating', 'timestamp'])\n",
    "\n",
    "# Merge movie info with ratings for both train and test data\n",
    "train_data = pd.merge(ratings_train, movies[['movieId', 'title', 'combined_info']], on='movieId')\n",
    "test_data = pd.merge(ratings_test, movies[['movieId', 'title', 'combined_info']], on='movieId')"
   ]
  },
  {
   "cell_type": "markdown",
   "id": "3a64c119",
   "metadata": {},
   "source": [
    "# TF-IDF model"
   ]
  },
  {
   "cell_type": "code",
   "execution_count": 36,
   "id": "78cc94bf",
   "metadata": {},
   "outputs": [],
   "source": [
    "def recommend_for_user_tfidf(user_id, train_data, top_n=5):\n",
    "    user_ratings = train_data[train_data['userId'] == user_id]\n",
    "    if user_ratings.empty:\n",
    "        return pd.DataFrame()  # No recommendations if user has no ratings in the training data\n",
    "\n",
    "    # Get user profile\n",
    "    user_profile = user_ratings[['movieId', 'rating']].copy()\n",
    "    user_profile = user_profile.merge(movies[['movieId', 'combined_info']], on='movieId')\n",
    "    user_profile_matrix = vectorizer.transform(user_profile['combined_info'])\n",
    "    user_profile_vector = np.asarray(np.mean(user_profile_matrix.toarray(), axis=0))  # Convert matrix to array\n",
    "    \n",
    "    # Compute similarity between the user profile and all movie vectors\n",
    "    similarities = cosine_similarity(user_profile_vector.reshape(1, -1), tfidf_matrix)[0]\n",
    "    \n",
    "    # Add similarities to the original data\n",
    "    movies['similarity'] = similarities\n",
    "    recommendations = movies[['movieId', 'title', 'similarity']].sort_values(by='similarity', ascending=False)\n",
    "    \n",
    "    # Return top N recommendations\n",
    "    return recommendations.head(top_n)"
   ]
  },
  {
   "cell_type": "markdown",
   "id": "afcc3244",
   "metadata": {},
   "source": [
    "# BERT model"
   ]
  },
  {
   "cell_type": "code",
   "execution_count": 37,
   "id": "a0133f97",
   "metadata": {},
   "outputs": [],
   "source": [
    "# Define recommendation function\n",
    "def recommend_for_user_bert(user_id, train_data, top_n=5):\n",
    "    user_ratings = train_data[train_data['userId'] == user_id]\n",
    "    if user_ratings.empty:\n",
    "        return pd.DataFrame()  # No recommendations if user has no ratings in the training data\n",
    "\n",
    "    # Get user profile\n",
    "    user_profile = user_ratings[['movieId', 'rating']].copy()\n",
    "    user_profile = user_profile.merge(movies_embeddings[['movieId', 'embedding']], on='movieId')\n",
    "    user_profile_vector = np.mean(user_profile['embedding'].tolist(), axis=0)\n",
    "    \n",
    "    # Compute similarity between the user profile and all movie vectors\n",
    "    all_movie_vectors = np.array(movies_embeddings['embedding'].tolist())\n",
    "    similarities = cosine_similarity([user_profile_vector], all_movie_vectors)[0]\n",
    "    \n",
    "    # Add similarities to the original data\n",
    "    movies['similarity'] = similarities\n",
    "    recommendations = movies[['movieId', 'title', 'similarity']].sort_values(by='similarity', ascending=False)\n",
    "    \n",
    "    # Return top N recommendations\n",
    "    return recommendations.head(top_n)"
   ]
  },
  {
   "cell_type": "markdown",
   "id": "82f81534",
   "metadata": {},
   "source": [
    "# Evaluation functions"
   ]
  },
  {
   "cell_type": "code",
   "execution_count": 53,
   "id": "066a6c37",
   "metadata": {},
   "outputs": [],
   "source": [
    "def evaluate_tfidf(test_data, train_data, top_n=5):\n",
    "    y_true = []\n",
    "    y_pred = []\n",
    "\n",
    "    for user_id in test_data['userId'].unique():\n",
    "        recommendations = recommend_for_user_tfidf(user_id, train_data, top_n)\n",
    "        if recommendations.empty:\n",
    "            continue  # Skip users with no recommendations\n",
    "        \n",
    "        recommended_movie_ids = set(recommendations['movieId'])\n",
    "        actual_movie_ids = set(test_data[test_data['userId'] == user_id]['movieId'])\n",
    "        \n",
    "        # Prepare ground truth and predictions\n",
    "        # True = 1 for relevant movies (actual_movie_ids), 0 otherwise\n",
    "        for movie_id in actual_movie_ids:\n",
    "            y_true.append(1)\n",
    "            y_pred.append(1 if movie_id in recommended_movie_ids else 0)\n",
    "        \n",
    "        # Handle movies in recommendations that are not in actual_movie_ids\n",
    "        for movie_id in recommended_movie_ids:\n",
    "            if movie_id not in actual_movie_ids:\n",
    "                y_true.append(0)\n",
    "                y_pred.append(1)\n",
    "        \n",
    "    # Ensure y_true and y_pred have the same length\n",
    "    if len(y_true) == 0 or len(y_pred) == 0:\n",
    "        return None, None, None  # Return None if there are no valid recommendations\n",
    "    \n",
    "    # Calculate evaluation metrics\n",
    "    precision = precision_score(y_true, y_pred, zero_division=0)\n",
    "    recall = recall_score(y_true, y_pred, zero_division=0)\n",
    "    f1 = f1_score(y_true, y_pred, zero_division=0)\n",
    "    \n",
    "    return precision, recall, f1"
   ]
  },
  {
   "cell_type": "code",
   "execution_count": 54,
   "id": "f6c1e65c",
   "metadata": {},
   "outputs": [],
   "source": [
    "def evaluate_bert(test_data, train_data, top_n=5):\n",
    "    y_true = []\n",
    "    y_pred = []\n",
    "\n",
    "    for user_id in test_data['userId'].unique():\n",
    "        recommendations = recommend_for_user_bert(user_id, train_data, top_n)\n",
    "        if recommendations.empty:\n",
    "            continue  # Skip users with no recommendations\n",
    "        \n",
    "        recommended_movie_ids = set(recommendations['movieId'])\n",
    "        actual_movie_ids = set(test_data[test_data['userId'] == user_id]['movieId'])\n",
    "        \n",
    "        # Prepare ground truth and predictions\n",
    "        # True = 1 for relevant movies (actual_movie_ids), 0 otherwise\n",
    "        for movie_id in actual_movie_ids:\n",
    "            y_true.append(1)\n",
    "            y_pred.append(1 if movie_id in recommended_movie_ids else 0)\n",
    "        \n",
    "        # Handle movies in recommendations that are not in actual_movie_ids\n",
    "        for movie_id in recommended_movie_ids:\n",
    "            if movie_id not in actual_movie_ids:\n",
    "                y_true.append(0)\n",
    "                y_pred.append(1)\n",
    "        \n",
    "    # Ensure y_true and y_pred have the same length\n",
    "    if len(y_true) == 0 or len(y_pred) == 0:\n",
    "        return None, None, None  # Return None if there are no valid recommendations\n",
    "    \n",
    "    # Calculate evaluation metrics\n",
    "    precision = precision_score(y_true, y_pred, zero_division=0)\n",
    "    recall = recall_score(y_true, y_pred, zero_division=0)\n",
    "    f1 = f1_score(y_true, y_pred, zero_division=0)\n",
    "    \n",
    "    return precision, recall, f1"
   ]
  },
  {
   "cell_type": "markdown",
   "id": "45856021",
   "metadata": {},
   "source": [
    "# Recommendations"
   ]
  },
  {
   "cell_type": "code",
   "execution_count": 55,
   "id": "6bec3e68",
   "metadata": {
    "scrolled": false
   },
   "outputs": [
    {
     "data": {
      "text/html": [
       "<div>\n",
       "<style scoped>\n",
       "    .dataframe tbody tr th:only-of-type {\n",
       "        vertical-align: middle;\n",
       "    }\n",
       "\n",
       "    .dataframe tbody tr th {\n",
       "        vertical-align: top;\n",
       "    }\n",
       "\n",
       "    .dataframe thead th {\n",
       "        text-align: right;\n",
       "    }\n",
       "</style>\n",
       "<table border=\"1\" class=\"dataframe\">\n",
       "  <thead>\n",
       "    <tr style=\"text-align: right;\">\n",
       "      <th></th>\n",
       "      <th>movieId</th>\n",
       "      <th>title</th>\n",
       "      <th>similarity</th>\n",
       "    </tr>\n",
       "  </thead>\n",
       "  <tbody>\n",
       "    <tr>\n",
       "      <th>1024</th>\n",
       "      <td>1025</td>\n",
       "      <td>Fire Down Below (1997)</td>\n",
       "      <td>0.506325</td>\n",
       "    </tr>\n",
       "    <tr>\n",
       "      <th>830</th>\n",
       "      <td>831</td>\n",
       "      <td>Escape from L.A. (1996)</td>\n",
       "      <td>0.469919</td>\n",
       "    </tr>\n",
       "    <tr>\n",
       "      <th>1101</th>\n",
       "      <td>1102</td>\n",
       "      <td>Two Much (1996)</td>\n",
       "      <td>0.422284</td>\n",
       "    </tr>\n",
       "    <tr>\n",
       "      <th>1047</th>\n",
       "      <td>1048</td>\n",
       "      <td>She's the One (1996)</td>\n",
       "      <td>0.422284</td>\n",
       "    </tr>\n",
       "    <tr>\n",
       "      <th>357</th>\n",
       "      <td>358</td>\n",
       "      <td>Spawn (1997)</td>\n",
       "      <td>0.420208</td>\n",
       "    </tr>\n",
       "  </tbody>\n",
       "</table>\n",
       "</div>"
      ],
      "text/plain": [
       "      movieId                    title  similarity\n",
       "1024     1025   Fire Down Below (1997)    0.506325\n",
       "830       831  Escape from L.A. (1996)    0.469919\n",
       "1101     1102          Two Much (1996)    0.422284\n",
       "1047     1048     She's the One (1996)    0.422284\n",
       "357       358             Spawn (1997)    0.420208"
      ]
     },
     "execution_count": 55,
     "metadata": {},
     "output_type": "execute_result"
    }
   ],
   "source": [
    "recommend_for_user_tfidf(1, train_data, top_n=5)"
   ]
  },
  {
   "cell_type": "code",
   "execution_count": 56,
   "id": "d50ca98c",
   "metadata": {},
   "outputs": [
    {
     "data": {
      "text/html": [
       "<div>\n",
       "<style scoped>\n",
       "    .dataframe tbody tr th:only-of-type {\n",
       "        vertical-align: middle;\n",
       "    }\n",
       "\n",
       "    .dataframe tbody tr th {\n",
       "        vertical-align: top;\n",
       "    }\n",
       "\n",
       "    .dataframe thead th {\n",
       "        text-align: right;\n",
       "    }\n",
       "</style>\n",
       "<table border=\"1\" class=\"dataframe\">\n",
       "  <thead>\n",
       "    <tr style=\"text-align: right;\">\n",
       "      <th></th>\n",
       "      <th>movieId</th>\n",
       "      <th>title</th>\n",
       "      <th>similarity</th>\n",
       "    </tr>\n",
       "  </thead>\n",
       "  <tbody>\n",
       "    <tr>\n",
       "      <th>338</th>\n",
       "      <td>339</td>\n",
       "      <td>Mad City (1997)</td>\n",
       "      <td>0.920737</td>\n",
       "    </tr>\n",
       "    <tr>\n",
       "      <th>627</th>\n",
       "      <td>628</td>\n",
       "      <td>Sleepers (1996)</td>\n",
       "      <td>0.918142</td>\n",
       "    </tr>\n",
       "    <tr>\n",
       "      <th>788</th>\n",
       "      <td>789</td>\n",
       "      <td>Swimming with Sharks (1995)</td>\n",
       "      <td>0.916811</td>\n",
       "    </tr>\n",
       "    <tr>\n",
       "      <th>1459</th>\n",
       "      <td>1460</td>\n",
       "      <td>Sleepover (1995)</td>\n",
       "      <td>0.915964</td>\n",
       "    </tr>\n",
       "    <tr>\n",
       "      <th>544</th>\n",
       "      <td>545</td>\n",
       "      <td>Vampire in Brooklyn (1995)</td>\n",
       "      <td>0.913734</td>\n",
       "    </tr>\n",
       "  </tbody>\n",
       "</table>\n",
       "</div>"
      ],
      "text/plain": [
       "      movieId                        title  similarity\n",
       "338       339              Mad City (1997)    0.920737\n",
       "627       628              Sleepers (1996)    0.918142\n",
       "788       789  Swimming with Sharks (1995)    0.916811\n",
       "1459     1460             Sleepover (1995)    0.915964\n",
       "544       545   Vampire in Brooklyn (1995)    0.913734"
      ]
     },
     "execution_count": 56,
     "metadata": {},
     "output_type": "execute_result"
    }
   ],
   "source": [
    "recommend_for_user_bert(1, train_data, top_n=5)"
   ]
  },
  {
   "cell_type": "markdown",
   "id": "6766eccc",
   "metadata": {},
   "source": [
    "# Evaluation"
   ]
  },
  {
   "cell_type": "code",
   "execution_count": 59,
   "id": "fd5b3b3b",
   "metadata": {
    "scrolled": false
   },
   "outputs": [
    {
     "name": "stdout",
     "output_type": "stream",
     "text": [
      "TF-IDF Model - Average Precision: 0.02462354188759279\n",
      "TF-IDF Model - Average Recall: 0.12311770943796395\n",
      "TF-IDF Model - Average F1 Score: 0.04103923647932131\n",
      "BERT Model - Average Precision: 0.012873806998939554\n",
      "BERT Model - Average Recall: 0.06436903499469777\n",
      "BERT Model - Average F1 Score: 0.02145634499823259\n"
     ]
    }
   ],
   "source": [
    "precision_tfidf, recall_tfidf, f1_tfidf = evaluate_tfidf(test_data, train_data, top_n = 50)\n",
    "print(f\"TF-IDF Model - Average Precision: {precision_tfidf}\")\n",
    "print(f\"TF-IDF Model - Average Recall: {recall_tfidf}\")\n",
    "print(f\"TF-IDF Model - Average F1 Score: {f1_tfidf}\")\n",
    "\n",
    "precision_bert, recall_bert, f1_bert = evaluate_bert(test_data, train_data, top_n = 50)\n",
    "print(f\"BERT Model - Average Precision: {precision_bert}\")\n",
    "print(f\"BERT Model - Average Recall: {recall_bert}\")\n",
    "print(f\"BERT Model - Average F1 Score: {f1_bert}\")"
   ]
  },
  {
   "cell_type": "markdown",
   "id": "51e95f71",
   "metadata": {},
   "source": [
    "# RMSE"
   ]
  },
  {
   "cell_type": "code",
   "execution_count": 60,
   "id": "6bda0551",
   "metadata": {},
   "outputs": [],
   "source": [
    "def predict_rating_tfidf(user_id, movie_id, train_data):\n",
    "    # Get user profile based on ratings\n",
    "    user_ratings = train_data[train_data['userId'] == user_id]\n",
    "    if user_ratings.empty:\n",
    "        return None  # Return None if user has no ratings\n",
    "\n",
    "    # Compute user's average profile\n",
    "    user_profile = user_ratings[['movieId', 'rating']].merge(movies[['movieId', 'combined_info']], on='movieId')\n",
    "    user_profile_matrix = vectorizer.transform(user_profile['combined_info'])\n",
    "    user_profile_vector = np.mean(user_profile_matrix.toarray(), axis=0)\n",
    "\n",
    "    # Get the vector for the movie we're predicting\n",
    "    movie_vector = tfidf_matrix[movies['movieId'] == movie_id].toarray().flatten()\n",
    "\n",
    "    # Compute similarity between user's profile and the movie\n",
    "    similarity = cosine_similarity(user_profile_vector.reshape(1, -1), movie_vector.reshape(1, -1))[0][0]\n",
    "\n",
    "    # Predict rating as a weighted sum of user's past ratings\n",
    "    if len(user_ratings) > 0:\n",
    "        weighted_ratings = user_ratings['rating'].to_numpy() * similarity\n",
    "        predicted_rating = np.mean(weighted_ratings)\n",
    "    else:\n",
    "        predicted_rating = similarity * 5  # If no prior ratings, use similarity as a proxy\n",
    "\n",
    "    return predicted_rating"
   ]
  },
  {
   "cell_type": "code",
   "execution_count": 61,
   "id": "912fe26e",
   "metadata": {},
   "outputs": [],
   "source": [
    "from sklearn.metrics import mean_squared_error\n",
    "import numpy as np\n",
    "\n",
    "def evaluate_rmse_tfidf(test_data, train_data):\n",
    "    actual_ratings = []\n",
    "    predicted_ratings = []\n",
    "    \n",
    "    for _, row in test_data.iterrows():\n",
    "        user_id = row['userId']\n",
    "        movie_id = row['movieId']\n",
    "        actual_rating = row['rating']\n",
    "        \n",
    "        predicted_rating = predict_rating_tfidf(user_id, movie_id, train_data)\n",
    "        if predicted_rating is not None:\n",
    "            actual_ratings.append(actual_rating)\n",
    "            predicted_ratings.append(predicted_rating)\n",
    "    \n",
    "    # Compute RMSE\n",
    "    rmse = np.sqrt(mean_squared_error(actual_ratings, predicted_ratings))\n",
    "    return rmse\n"
   ]
  },
  {
   "cell_type": "code",
   "execution_count": 62,
   "id": "5054db19",
   "metadata": {},
   "outputs": [],
   "source": [
    "def predict_rating_bert(user_id, movie_id, train_data):\n",
    "    # Get user profile based on ratings\n",
    "    user_ratings = train_data[train_data['userId'] == user_id]\n",
    "    if user_ratings.empty:\n",
    "        return None  # Return None if user has no ratings\n",
    "\n",
    "    # Compute user's average profile\n",
    "    user_profile = user_ratings[['movieId', 'rating']].merge(movies_embeddings[['movieId', 'embedding']], on='movieId')\n",
    "    user_profile_vector = np.mean(np.array(user_profile['embedding'].tolist()), axis=0)\n",
    "\n",
    "    # Get the vector for the movie we're predicting\n",
    "    movie_vector = np.array(movies_embeddings[movies_embeddings['movieId'] == movie_id]['embedding'].tolist())[0]\n",
    "\n",
    "    # Compute similarity between user's profile and the movie\n",
    "    similarity = cosine_similarity([user_profile_vector], [movie_vector])[0][0]\n",
    "\n",
    "    # Predict rating as a weighted sum of user's past ratings\n",
    "    if len(user_ratings) > 0:\n",
    "        weighted_ratings = user_ratings['rating'].to_numpy() * similarity\n",
    "        predicted_rating = np.mean(weighted_ratings)\n",
    "    else:\n",
    "        predicted_rating = similarity * 5  # If no prior ratings, use similarity as a proxy\n",
    "\n",
    "    return predicted_rating\n"
   ]
  },
  {
   "cell_type": "code",
   "execution_count": 63,
   "id": "537cd3c9",
   "metadata": {},
   "outputs": [],
   "source": [
    "def evaluate_rmse_bert(test_data, train_data):\n",
    "    actual_ratings = []\n",
    "    predicted_ratings = []\n",
    "    \n",
    "    for _, row in test_data.iterrows():\n",
    "        user_id = row['userId']\n",
    "        movie_id = row['movieId']\n",
    "        actual_rating = row['rating']\n",
    "        \n",
    "        predicted_rating = predict_rating_bert(user_id, movie_id, train_data)\n",
    "        if predicted_rating is not None:\n",
    "            actual_ratings.append(actual_rating)\n",
    "            predicted_ratings.append(predicted_rating)\n",
    "    \n",
    "    # Compute RMSE\n",
    "    rmse = np.sqrt(mean_squared_error(actual_ratings, predicted_ratings))\n",
    "    return rmse\n"
   ]
  },
  {
   "cell_type": "code",
   "execution_count": 64,
   "id": "eeda910a",
   "metadata": {},
   "outputs": [
    {
     "name": "stdout",
     "output_type": "stream",
     "text": [
      "TF-IDF Model RMSE: 3.1510211794973704\n",
      "BERT Model RMSE: 1.1801095335094431\n"
     ]
    }
   ],
   "source": [
    "# Evaluate TF-IDF model\n",
    "rmse_tfidf = evaluate_rmse_tfidf(test_data, train_data)\n",
    "print(f'TF-IDF Model RMSE: {rmse_tfidf}')\n",
    "\n",
    "# Evaluate BERT model\n",
    "rmse_bert = evaluate_rmse_bert(test_data, train_data)\n",
    "print(f'BERT Model RMSE: {rmse_bert}')\n"
   ]
  },
  {
   "cell_type": "markdown",
   "id": "09135ecd",
   "metadata": {},
   "source": [
    "# Hit rate"
   ]
  },
  {
   "cell_type": "code",
   "execution_count": 65,
   "id": "031f3cb9",
   "metadata": {},
   "outputs": [
    {
     "name": "stdout",
     "output_type": "stream",
     "text": [
      "TF-IDF Model Hit Rate: 0.029692470837751856\n"
     ]
    }
   ],
   "source": [
    "def evaluate_hit_rate_tfidf(test_data, train_data, top_n=5, positive_threshold=4):\n",
    "    hits = 0\n",
    "    total_users = 0\n",
    "\n",
    "    for user_id in test_data['userId'].unique():\n",
    "        # Get top-N recommendations\n",
    "        recommendations = recommend_for_user_tfidf(user_id, train_data, top_n)\n",
    "        \n",
    "        # Get the user's actual positively rated movies\n",
    "        user_ratings = test_data[(test_data['userId'] == user_id) & (test_data['rating'] >= positive_threshold)]\n",
    "        actual_positive_movie_ids = set(user_ratings['movieId'])\n",
    "        \n",
    "        # Check if any of the recommended movies are in the actual positive ratings\n",
    "        recommended_movie_ids = set(recommendations['movieId'])\n",
    "        hit = len(recommended_movie_ids.intersection(actual_positive_movie_ids)) > 0\n",
    "        \n",
    "        if hit:\n",
    "            hits += 1\n",
    "        total_users += 1\n",
    "\n",
    "    hit_rate = hits / total_users if total_users > 0 else 0\n",
    "    return hit_rate\n",
    "\n",
    "# Evaluate Hit Rate for TF-IDF model\n",
    "hit_rate_tfidf = evaluate_hit_rate_tfidf(test_data, train_data, top_n=5)\n",
    "print(f\"TF-IDF Model Hit Rate: {hit_rate_tfidf}\")"
   ]
  },
  {
   "cell_type": "code",
   "execution_count": 68,
   "id": "353852a2",
   "metadata": {},
   "outputs": [
    {
     "name": "stdout",
     "output_type": "stream",
     "text": [
      "BERT Model Hit Rate: 0.030752916224814422\n"
     ]
    }
   ],
   "source": [
    "def evaluate_hit_rate_bert(test_data, train_data, top_n=5, positive_threshold=4):\n",
    "    hits = 0\n",
    "    total_users = 0\n",
    "\n",
    "    for user_id in test_data['userId'].unique():\n",
    "        # Get top-N recommendations\n",
    "        recommendations = recommend_for_user_bert(user_id, train_data, top_n)\n",
    "        \n",
    "        # Get the user's actual positively rated movies\n",
    "        user_ratings = test_data[(test_data['userId'] == user_id) & (test_data['rating'] >= positive_threshold)]\n",
    "        actual_positive_movie_ids = set(user_ratings['movieId'])\n",
    "        \n",
    "        # Check if any of the recommended movies are in the actual positive ratings\n",
    "        recommended_movie_ids = set(recommendations['movieId'])\n",
    "        hit = len(recommended_movie_ids.intersection(actual_positive_movie_ids)) > 0\n",
    "        \n",
    "        if hit:\n",
    "            hits += 1\n",
    "        total_users += 1\n",
    "\n",
    "    hit_rate = hits / total_users if total_users > 0 else 0\n",
    "    return hit_rate\n",
    "\n",
    "# Evaluate Hit Rate for TF-IDF model\n",
    "hit_rate_bert = evaluate_hit_rate_bert(test_data, train_data, top_n=5)\n",
    "print(f\"BERT Model Hit Rate: {hit_rate_bert}\")"
   ]
  },
  {
   "cell_type": "code",
   "execution_count": null,
   "id": "bd42883d",
   "metadata": {},
   "outputs": [],
   "source": []
  }
 ],
 "metadata": {
  "kernelspec": {
   "display_name": "Python 3 (ipykernel)",
   "language": "python",
   "name": "python3"
  },
  "language_info": {
   "codemirror_mode": {
    "name": "ipython",
    "version": 3
   },
   "file_extension": ".py",
   "mimetype": "text/x-python",
   "name": "python",
   "nbconvert_exporter": "python",
   "pygments_lexer": "ipython3",
   "version": "3.9.12"
  }
 },
 "nbformat": 4,
 "nbformat_minor": 5
}
