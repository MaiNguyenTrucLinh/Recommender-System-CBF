{
 "cells": [
  {
   "cell_type": "markdown",
   "id": "e2b3bdf3",
   "metadata": {},
   "source": [
    "# Import libraries and data"
   ]
  },
  {
   "cell_type": "code",
   "execution_count": 8,
   "id": "ec1695d8",
   "metadata": {},
   "outputs": [],
   "source": [
    "import pandas as pd\n",
    "\n",
    "# Get movie and rating info\n",
    "movies = pd.read_csv('archive//ml-100k/u.item', sep='|', names=['movieId', 'title', 'release_date', 'video_release_date', 'IMDb_URL', 'unknown', 'Action', 'Adventure', 'Animation', 'Children\\'s', 'Comedy', 'Crime', 'Documentary', 'Drama', 'Fantasy', 'Film-Noir', 'Horror', 'Musical', 'Mystery', 'Romance', 'Sci-Fi', 'Thriller', 'War', 'Western'], encoding='latin-1')\n",
    "ratings = pd.read_csv('archive/ml-100k/u.data', sep='\\t', header=None, names=['userId', 'movieId', 'rating', 'timestamp'])"
   ]
  },
  {
   "cell_type": "markdown",
   "id": "03220e39",
   "metadata": {},
   "source": [
    "# Data cleaning"
   ]
  },
  {
   "cell_type": "markdown",
   "id": "bec048d5",
   "metadata": {},
   "source": [
    "Genres for movies are currently in binary form (i.e 1 indicates movie belongs in that genre, 0 indicates it does not). We want to convert the columns into a single string to capture all the genres for each movie. This will allow us to simplify the feature extraction process as the TF-IDF vectorizer will be able to treat the combined genres as a single text feature."
   ]
  },
  {
   "cell_type": "code",
   "execution_count": 9,
   "id": "927be1ac",
   "metadata": {},
   "outputs": [],
   "source": [
    "# Combine genre columns into a single string\n",
    "genre_columns = ['Action', 'Adventure', 'Animation', 'Children\\'s', 'Comedy', 'Crime',\n",
    "                  'Documentary', 'Drama', 'Fantasy', 'Film-Noir', 'Horror', 'Musical',\n",
    "                  'Mystery', 'Romance', 'Sci-Fi', 'Thriller', 'War', 'Western']\n",
    "movies['genres'] = movies[genre_columns].apply(lambda row: ' '.join([genre for genre in genre_columns if row[genre] == 1]), axis=1)\n",
    "\n",
    "# Combine 'title' and 'genres' to get as much info as possible for content-based filtering\n",
    "movies['combined_info'] = movies['title'] + ' ' + movies['genres']"
   ]
  },
  {
   "cell_type": "markdown",
   "id": "5c7d322f",
   "metadata": {},
   "source": [
    "# Save cleaned data"
   ]
  },
  {
   "cell_type": "code",
   "execution_count": 10,
   "id": "c70cb14e",
   "metadata": {},
   "outputs": [],
   "source": [
    "movies.to_pickle('movies_df.pkl')\n",
    "ratings.to_pickle('ratings_df.pkl')"
   ]
  }
 ],
 "metadata": {
  "kernelspec": {
   "display_name": "Python 3 (ipykernel)",
   "language": "python",
   "name": "python3"
  },
  "language_info": {
   "codemirror_mode": {
    "name": "ipython",
    "version": 3
   },
   "file_extension": ".py",
   "mimetype": "text/x-python",
   "name": "python",
   "nbconvert_exporter": "python",
   "pygments_lexer": "ipython3",
   "version": "3.9.12"
  }
 },
 "nbformat": 4,
 "nbformat_minor": 5
}
